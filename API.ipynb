{
  "nbformat": 4,
  "nbformat_minor": 0,
  "metadata": {
    "colab": {
      "name": "Untitled1.ipynb",
      "provenance": [],
      "authorship_tag": "ABX9TyNP2IKK1mEeQYOrwnncFaC7",
      "include_colab_link": true
    },
    "kernelspec": {
      "name": "python3",
      "display_name": "Python 3"
    },
    "language_info": {
      "name": "python"
    }
  },
  "cells": [
    {
      "cell_type": "markdown",
      "metadata": {
        "id": "view-in-github",
        "colab_type": "text"
      },
      "source": [
        "<a href=\"https://colab.research.google.com/github/snaiws/Project_5/blob/main/API.ipynb\" target=\"_parent\"><img src=\"https://colab.research.google.com/assets/colab-badge.svg\" alt=\"Open In Colab\"/></a>"
      ]
    },
    {
      "cell_type": "code",
      "metadata": {
        "colab": {
          "base_uri": "https://localhost:8080/"
        },
        "id": "jIjueqlUU2OP",
        "outputId": "f9386048-7472-4e96-9fc8-99adda0ff5ad"
      },
      "source": [
        "'''\n",
        "대충 api 써보기 위해 구글에서 긁어온 코드\n",
        "'''\n",
        "\n",
        "import requests\n",
        "from urllib import parse\n",
        "\n",
        "def encrypt(DEVELOPMENTAPIKEY,summonerName):\n",
        "    encodingSummonerName = parse.quote(summonerName)\n",
        "    APIURL = \"https://kr.api.riotgames.com/lol/summoner/v4/summoners/by-name/\" + encodingSummonerName\n",
        "    headers = {\n",
        "        \"Origin\": \"https://developer.riotgames.com\",\n",
        "        \"Accept-Charset\": \"application/x-www-form-urlencoded; charset=UTF-8\",\n",
        "        \"X-Riot-Token\": DEVELOPMENTAPIKEY,\n",
        "        \"Accept-Language\": \"ko-KR,ko;q=0.9,en-US;q=0.8,en;q=0.7\",\n",
        "        \"User-Agent\": \"Mozilla/5.0 (Macintosh; Intel Mac OS X 10_14_2) AppleWebKit/537.36 (KHTML, like Gecko) Chrome/79.0.3945.117 Safari/537.36\"\n",
        "        }\n",
        "    res = requests.get(APIURL, headers=headers)\n",
        "    data = res.json()\n",
        "    return data[\"id\"]\n",
        "print(encrypt(\"RGAPI-3c928981-4a5b-4db3-8100-482446b22453\",\"HIDE ON BUSH\"))"
      ],
      "execution_count": 2,
      "outputs": [
        {
          "output_type": "stream",
          "name": "stdout",
          "text": [
            "xAW4qvXEbYbqNinDjL_OEXIPkI6a4W-CGrrHKrhVOwNa3Q\n"
          ]
        }
      ]
    },
    {
      "cell_type": "code",
      "metadata": {
        "colab": {
          "base_uri": "https://localhost:8080/"
        },
        "id": "enJBCZaQU-U-",
        "outputId": "3d7cfd6f-3d73-441c-a18b-d353db146e56"
      },
      "source": [
        "\n",
        "def getTier(DEVELOPMENTAPIKEY,summonerName):\n",
        "    encryptedId = encrypt(DEVELOPMENTAPIKEY,summonerName)\n",
        "    headers = {\n",
        "        \"Origin\": \"https://developer.riotgames.com\",\n",
        "        \"Accept-Charset\": \"application/x-www-form-urlencoded; charset=UTF-8\",\n",
        "        \"X-Riot-Token\": DEVELOPMENTAPIKEY,\n",
        "        \"Accept-Language\": \"ko-KR,ko;q=0.9,en-US;q=0.8,en;q=0.7\",\n",
        "        \"User-Agent\": \"Mozilla/5.0 (Macintosh; Intel Mac OS X 10_14_2) AppleWebKit/537.36 (KHTML, like Gecko) Chrome/79.0.3945.117 Safari/537.36\"\n",
        "        }\n",
        "    APIURL = \"https://kr.api.riotgames.com/lol/league/v4/entries/by-summoner/\" + encryptedId\n",
        "    res = requests.get(APIURL, headers=headers)\n",
        "    data = res.json()\n",
        "    return data[0][\"tier\"]\n",
        "\n",
        "DEVELOPMENTAPIKEY = \"RGAPI-3c928981-4a5b-4db3-8100-482446b22453\"\n",
        "summonerName = \"HIDE ON BUSH\"\n",
        "\n",
        "print(getTier(DEVELOPMENTAPIKEY,summonerName))"
      ],
      "execution_count": 5,
      "outputs": [
        {
          "output_type": "stream",
          "name": "stdout",
          "text": [
            "DIAMOND\n"
          ]
        }
      ]
    }
  ]
}
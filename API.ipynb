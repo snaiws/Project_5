{
  "nbformat": 4,
  "nbformat_minor": 0,
  "metadata": {
    "colab": {
      "name": "Untitled1.ipynb",
      "provenance": [],
      "authorship_tag": "ABX9TyO81AyOS6LShsWuDiqLaWVw",
      "include_colab_link": true
    },
    "kernelspec": {
      "name": "python3",
      "display_name": "Python 3"
    },
    "language_info": {
      "name": "python"
    }
  },
  "cells": [
    {
      "cell_type": "markdown",
      "metadata": {
        "id": "view-in-github",
        "colab_type": "text"
      },
      "source": [
        "<a href=\"https://colab.research.google.com/github/snaiws/Project_5/blob/main/API.ipynb\" target=\"_parent\"><img src=\"https://colab.research.google.com/assets/colab-badge.svg\" alt=\"Open In Colab\"/></a>"
      ]
    },
    {
      "cell_type": "code",
      "metadata": {
        "id": "fGkD50AlFDny"
      },
      "source": [
        "#라이브러리\n",
        "import requests\n",
        "from urllib import parse\n",
        "import pandas as pd\n",
        "import time\n",
        "from IPython.display import display, clear_output #ipynb에서 api key 안보이게 하기 위해"
      ],
      "execution_count": 93,
      "outputs": []
    },
    {
      "cell_type": "code",
      "metadata": {
        "id": "5byx8dOg_0Ig"
      },
      "source": [
        "#api시간제한 << 자동으로 되나??\n"
      ],
      "execution_count": null,
      "outputs": []
    },
    {
      "cell_type": "code",
      "metadata": {
        "id": "KzCPTBag6RUJ"
      },
      "source": [
        "#버전,티어별 닉넴 뽑기\n",
        "def getSummonerName(tier,page,KEY): # II구간 get\n",
        "  APIURL = f\"https://kr.api.riotgames.com/lol/league/v4/entries/RANKED_SOLO_5x5/{tier}/II?page={page}&api_key={KEY}\"\n",
        "  res = requests.get(APIURL)\n",
        "  data = res.json()\n",
        "  data = [x['summonerName'] for x in data if x['inactive'] == False]\n",
        "  return data"
      ],
      "execution_count": 63,
      "outputs": []
    },
    {
      "cell_type": "code",
      "metadata": {
        "id": "dtMkbpbr_wu6"
      },
      "source": [
        "#get puuid\n",
        "def getPuuid(summonerName,KEY): #나중에 쓸 일 있을 수도 있으니 DB로 저장\n",
        "  encodedSummonerName = parse.quote(summonerName)\n",
        "  APIURL = f\"https://kr.api.riotgames.com/lol/summoner/v4/summoners/by-name/{encodedSummonerName}?api_key={KEY}\"\n",
        "  res = requests.get(APIURL)\n",
        "  data = res.json()\n",
        "  return data['puuid']"
      ],
      "execution_count": 60,
      "outputs": []
    },
    {
      "cell_type": "code",
      "metadata": {
        "id": "iPAn85HgIF83"
      },
      "source": [
        "#get MatchId\n",
        "def getMatchId(puuid,KEY): #나중에 쓸 일 있을 수도 있으니 DB로 저장\n",
        "  APIURL = f\"https://asia.api.riotgames.com/lol/match/v5/matches/by-puuid/{puuid}/ids?type=ranked&start=0&count=30&api_key={KEY}\"\n",
        "  res = requests.get(APIURL)\n",
        "  data = res.json()\n",
        "  return data"
      ],
      "execution_count": 61,
      "outputs": []
    },
    {
      "cell_type": "code",
      "metadata": {
        "id": "xGdRIkRSJFq1"
      },
      "source": [
        "#getMatch\n",
        "def getMatch(matchId,KEY): #나중에 쓸 일 있을 수도 있으니 DB로 저장\n",
        "  APIURL = f\"https://asia.api.riotgames.com/lol/match/v5/matches/{matchId}?api_key={KEY}\"\n",
        "  res = requests.get(APIURL)\n",
        "  data = res.json()\n",
        "  version = data['info']['gameVersion']\n",
        "  data = data['info']['participants']\n",
        "  data = [[x['individualPosition'],x['championName'],x['win']] for x in data]\n",
        "  return version, data"
      ],
      "execution_count": 86,
      "outputs": []
    },
    {
      "cell_type": "code",
      "metadata": {
        "id": "Hf2cdsXDcDME"
      },
      "source": [
        "def getData(tier,version,KEY):\n",
        "  df = pd.DataFrame()\n",
        "  while len(df) < 50000:\n",
        "  summonerList = getSummonerName('DIAMOND','1',KEY)\n",
        "  summonerList = [getPuuid(x,KEY) for x in summonerList]\n",
        "  matchList = []\n",
        "  for i in summonerList:\n",
        "    matchList = matchList + getMatchId(i,KEY)\n",
        "  matchList = list(set(matchList))\n",
        "  for i in matchList:\n",
        "    getMatch(matchId,KEY)\n"
      ],
      "execution_count": null,
      "outputs": []
    },
    {
      "cell_type": "code",
      "metadata": {
        "colab": {
          "base_uri": "https://localhost:8080/"
        },
        "id": "Z9CxMrdCcbuX",
        "outputId": "ecbddf3a-8db5-4d63-d0e7-486630a98bc8"
      },
      "source": [
        "KEY = input()\n",
        "clear_output(wait=True)\n",
        "True"
      ],
      "execution_count": 99,
      "outputs": [
        {
          "output_type": "execute_result",
          "data": {
            "text/plain": [
              "True"
            ]
          },
          "metadata": {},
          "execution_count": 99
        }
      ]
    },
    {
      "cell_type": "code",
      "metadata": {
        "id": "p7SdHs1Vdn_m"
      },
      "source": [
        "#최신버전 불러오기\n",
        "def getRecentVersion(KEY):\n",
        "  "
      ],
      "execution_count": null,
      "outputs": []
    }
  ]
}